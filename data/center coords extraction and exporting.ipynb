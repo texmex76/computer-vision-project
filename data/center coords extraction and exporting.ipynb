{
 "cells": [
  {
   "cell_type": "markdown",
   "metadata": {},
   "source": [
    "# Computer Vision Project\n",
    "\n",
    "## Extract center coordinates and export them for MATLAB"
   ]
  },
  {
   "cell_type": "code",
   "execution_count": 56,
   "metadata": {},
   "outputs": [],
   "source": [
    "import pandas as pd\n",
    "import re\n",
    "import numpy as np"
   ]
  },
  {
   "cell_type": "code",
   "execution_count": 4,
   "metadata": {},
   "outputs": [
    {
     "data": {
      "text/html": [
       "<div>\n",
       "<style scoped>\n",
       "    .dataframe tbody tr th:only-of-type {\n",
       "        vertical-align: middle;\n",
       "    }\n",
       "\n",
       "    .dataframe tbody tr th {\n",
       "        vertical-align: top;\n",
       "    }\n",
       "\n",
       "    .dataframe thead th {\n",
       "        text-align: right;\n",
       "    }\n",
       "</style>\n",
       "<table border=\"1\" class=\"dataframe\">\n",
       "  <thead>\n",
       "    <tr style=\"text-align: right;\">\n",
       "      <th></th>\n",
       "      <th>filename</th>\n",
       "      <th>file_size</th>\n",
       "      <th>file_attributes</th>\n",
       "      <th>region_count</th>\n",
       "      <th>region_id</th>\n",
       "      <th>region_shape_attributes</th>\n",
       "      <th>region_attributes</th>\n",
       "    </tr>\n",
       "  </thead>\n",
       "  <tbody>\n",
       "    <tr>\n",
       "      <th>0</th>\n",
       "      <td>DSC06215.JPG</td>\n",
       "      <td>7667712</td>\n",
       "      <td>{}</td>\n",
       "      <td>2</td>\n",
       "      <td>0</td>\n",
       "      <td>{\"name\":\"point\",\"cx\":5131,\"cy\":2700}</td>\n",
       "      <td>{}</td>\n",
       "    </tr>\n",
       "    <tr>\n",
       "      <th>1</th>\n",
       "      <td>DSC06215.JPG</td>\n",
       "      <td>7667712</td>\n",
       "      <td>{}</td>\n",
       "      <td>2</td>\n",
       "      <td>1</td>\n",
       "      <td>{\"name\":\"point\",\"cx\":5417,\"cy\":2577}</td>\n",
       "      <td>{}</td>\n",
       "    </tr>\n",
       "    <tr>\n",
       "      <th>2</th>\n",
       "      <td>DSC06216.JPG</td>\n",
       "      <td>7667712</td>\n",
       "      <td>{}</td>\n",
       "      <td>3</td>\n",
       "      <td>0</td>\n",
       "      <td>{\"name\":\"point\",\"cx\":5110,\"cy\":2599}</td>\n",
       "      <td>{}</td>\n",
       "    </tr>\n",
       "    <tr>\n",
       "      <th>3</th>\n",
       "      <td>DSC06216.JPG</td>\n",
       "      <td>7667712</td>\n",
       "      <td>{}</td>\n",
       "      <td>3</td>\n",
       "      <td>1</td>\n",
       "      <td>{\"name\":\"point\",\"cx\":4776,\"cy\":2718}</td>\n",
       "      <td>{}</td>\n",
       "    </tr>\n",
       "    <tr>\n",
       "      <th>4</th>\n",
       "      <td>DSC06216.JPG</td>\n",
       "      <td>7667712</td>\n",
       "      <td>{}</td>\n",
       "      <td>3</td>\n",
       "      <td>2</td>\n",
       "      <td>{\"name\":\"point\",\"cx\":5978,\"cy\":2332}</td>\n",
       "      <td>{}</td>\n",
       "    </tr>\n",
       "  </tbody>\n",
       "</table>\n",
       "</div>"
      ],
      "text/plain": [
       "       filename  file_size file_attributes  region_count  region_id  \\\n",
       "0  DSC06215.JPG    7667712              {}             2          0   \n",
       "1  DSC06215.JPG    7667712              {}             2          1   \n",
       "2  DSC06216.JPG    7667712              {}             3          0   \n",
       "3  DSC06216.JPG    7667712              {}             3          1   \n",
       "4  DSC06216.JPG    7667712              {}             3          2   \n",
       "\n",
       "                region_shape_attributes region_attributes  \n",
       "0  {\"name\":\"point\",\"cx\":5131,\"cy\":2700}                {}  \n",
       "1  {\"name\":\"point\",\"cx\":5417,\"cy\":2577}                {}  \n",
       "2  {\"name\":\"point\",\"cx\":5110,\"cy\":2599}                {}  \n",
       "3  {\"name\":\"point\",\"cx\":4776,\"cy\":2718}                {}  \n",
       "4  {\"name\":\"point\",\"cx\":5978,\"cy\":2332}                {}  "
      ]
     },
     "execution_count": 4,
     "metadata": {},
     "output_type": "execute_result"
    }
   ],
   "source": [
    "path_csv = r\"C:\\Users\\User\\Google Drive\\JKU\\WS19\\Computer Vision\\LAB\\project_dir\\data\\peaches_top_center_coords.csv\"\n",
    "df = pd.read_csv(path_csv)\n",
    "df.head()"
   ]
  },
  {
   "cell_type": "code",
   "execution_count": 15,
   "metadata": {},
   "outputs": [
    {
     "data": {
      "text/plain": [
       "'{\"name\":\"point\",\"cx\":5131,\"cy\":2700}'"
      ]
     },
     "execution_count": 15,
     "metadata": {},
     "output_type": "execute_result"
    }
   ],
   "source": [
    "test = df[\"region_shape_attributes\"][0]\n",
    "test"
   ]
  },
  {
   "cell_type": "markdown",
   "metadata": {},
   "source": [
    "### Single step"
   ]
  },
  {
   "cell_type": "code",
   "execution_count": 52,
   "metadata": {},
   "outputs": [
    {
     "data": {
      "text/html": [
       "<div>\n",
       "<style scoped>\n",
       "    .dataframe tbody tr th:only-of-type {\n",
       "        vertical-align: middle;\n",
       "    }\n",
       "\n",
       "    .dataframe tbody tr th {\n",
       "        vertical-align: top;\n",
       "    }\n",
       "\n",
       "    .dataframe thead th {\n",
       "        text-align: right;\n",
       "    }\n",
       "</style>\n",
       "<table border=\"1\" class=\"dataframe\">\n",
       "  <thead>\n",
       "    <tr style=\"text-align: right;\">\n",
       "      <th></th>\n",
       "      <th>filename</th>\n",
       "      <th>file_size</th>\n",
       "      <th>file_attributes</th>\n",
       "      <th>region_count</th>\n",
       "      <th>region_id</th>\n",
       "      <th>region_shape_attributes</th>\n",
       "      <th>region_attributes</th>\n",
       "    </tr>\n",
       "  </thead>\n",
       "  <tbody>\n",
       "    <tr>\n",
       "      <th>0</th>\n",
       "      <td>DSC06215.JPG</td>\n",
       "      <td>7667712</td>\n",
       "      <td>{}</td>\n",
       "      <td>2</td>\n",
       "      <td>0</td>\n",
       "      <td>{\"name\":\"point\",\"cx\":5131,\"cy\":2700}</td>\n",
       "      <td>{}</td>\n",
       "    </tr>\n",
       "    <tr>\n",
       "      <th>1</th>\n",
       "      <td>DSC06215.JPG</td>\n",
       "      <td>7667712</td>\n",
       "      <td>{}</td>\n",
       "      <td>2</td>\n",
       "      <td>1</td>\n",
       "      <td>{\"name\":\"point\",\"cx\":5417,\"cy\":2577}</td>\n",
       "      <td>{}</td>\n",
       "    </tr>\n",
       "  </tbody>\n",
       "</table>\n",
       "</div>"
      ],
      "text/plain": [
       "       filename  file_size file_attributes  region_count  region_id  \\\n",
       "0  DSC06215.JPG    7667712              {}             2          0   \n",
       "1  DSC06215.JPG    7667712              {}             2          1   \n",
       "\n",
       "                region_shape_attributes region_attributes  \n",
       "0  {\"name\":\"point\",\"cx\":5131,\"cy\":2700}                {}  \n",
       "1  {\"name\":\"point\",\"cx\":5417,\"cy\":2577}                {}  "
      ]
     },
     "execution_count": 52,
     "metadata": {},
     "output_type": "execute_result"
    }
   ],
   "source": [
    "idx = 1\n",
    "temp_df = df[df[\"filename\"] == \"DSC06215.JPG\"]\n",
    "temp_df"
   ]
  },
  {
   "cell_type": "code",
   "execution_count": 38,
   "metadata": {},
   "outputs": [
    {
     "data": {
      "text/plain": [
       "[['5131', '2700'], ['5417', '2577']]"
      ]
     },
     "execution_count": 38,
     "metadata": {},
     "output_type": "execute_result"
    }
   ],
   "source": [
    "r = re.compile(r\"[0-9]+\")\n",
    "\n",
    "points = []\n",
    "for string in temp_df[\"region_shape_attributes\"]:\n",
    "    result = r.findall(string)\n",
    "    points.append(result)\n",
    "points"
   ]
  },
  {
   "cell_type": "code",
   "execution_count": 40,
   "metadata": {},
   "outputs": [
    {
     "data": {
      "text/html": [
       "<div>\n",
       "<style scoped>\n",
       "    .dataframe tbody tr th:only-of-type {\n",
       "        vertical-align: middle;\n",
       "    }\n",
       "\n",
       "    .dataframe tbody tr th {\n",
       "        vertical-align: top;\n",
       "    }\n",
       "\n",
       "    .dataframe thead th {\n",
       "        text-align: right;\n",
       "    }\n",
       "</style>\n",
       "<table border=\"1\" class=\"dataframe\">\n",
       "  <thead>\n",
       "    <tr style=\"text-align: right;\">\n",
       "      <th></th>\n",
       "      <th>0</th>\n",
       "      <th>1</th>\n",
       "    </tr>\n",
       "  </thead>\n",
       "  <tbody>\n",
       "    <tr>\n",
       "      <th>0</th>\n",
       "      <td>5131</td>\n",
       "      <td>2700</td>\n",
       "    </tr>\n",
       "    <tr>\n",
       "      <th>1</th>\n",
       "      <td>5417</td>\n",
       "      <td>2577</td>\n",
       "    </tr>\n",
       "  </tbody>\n",
       "</table>\n",
       "</div>"
      ],
      "text/plain": [
       "      0     1\n",
       "0  5131  2700\n",
       "1  5417  2577"
      ]
     },
     "execution_count": 40,
     "metadata": {},
     "output_type": "execute_result"
    }
   ],
   "source": [
    "points_df = pd.DataFrame(points)\n",
    "points_df"
   ]
  },
  {
   "cell_type": "code",
   "execution_count": 53,
   "metadata": {},
   "outputs": [
    {
     "data": {
      "text/plain": [
       "'01.csv'"
      ]
     },
     "execution_count": 53,
     "metadata": {},
     "output_type": "execute_result"
    }
   ],
   "source": [
    "name = f\"{idx:{0}{2}}.csv\"\n",
    "name"
   ]
  },
  {
   "cell_type": "code",
   "execution_count": 42,
   "metadata": {},
   "outputs": [],
   "source": [
    "points_df.to_csv(name, header=False, index=False)"
   ]
  },
  {
   "cell_type": "markdown",
   "metadata": {},
   "source": [
    "### Looping over all entries"
   ]
  },
  {
   "cell_type": "code",
   "execution_count": 61,
   "metadata": {},
   "outputs": [],
   "source": [
    "filenames = np.unique(df[\"filename\"])\n",
    "r = re.compile(r\"[0-9]+\")\n",
    "\n",
    "idx = 1\n",
    "for filename in filenames:\n",
    "    temp_df = df[df[\"filename\"] == filename]\n",
    "    points = []\n",
    "    for string in temp_df[\"region_shape_attributes\"]:\n",
    "        result = r.findall(string)\n",
    "        points.append(result)\n",
    "    points_df = pd.DataFrame(points)\n",
    "    name = f\"peaches_center_coords/{idx:{0}{2}}.csv\"\n",
    "    points_df.to_csv(name, header=False, index=False)\n",
    "    idx += 1\n",
    "    \n",
    "assert (idx - 1) == len(filenames)"
   ]
  },
  {
   "cell_type": "code",
   "execution_count": null,
   "metadata": {},
   "outputs": [],
   "source": []
  }
 ],
 "metadata": {
  "kernelspec": {
   "display_name": "Python 3",
   "language": "python",
   "name": "python3"
  },
  "language_info": {
   "codemirror_mode": {
    "name": "ipython",
    "version": 3
   },
   "file_extension": ".py",
   "mimetype": "text/x-python",
   "name": "python",
   "nbconvert_exporter": "python",
   "pygments_lexer": "ipython3",
   "version": "3.7.4"
  }
 },
 "nbformat": 4,
 "nbformat_minor": 2
}
